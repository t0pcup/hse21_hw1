{
  "nbformat": 4,
  "nbformat_minor": 0,
  "metadata": {
    "colab": {
      "name": "sem3hw1.ipynb",
      "provenance": [],
      "collapsed_sections": []
    },
    "kernelspec": {
      "name": "python3",
      "display_name": "Python 3"
    },
    "language_info": {
      "name": "python"
    }
  },
  "cells": [
    {
      "cell_type": "code",
      "metadata": {
        "colab": {
          "base_uri": "https://localhost:8080/"
        },
        "id": "dYRLqGgyde5s",
        "outputId": "d4c1a524-d89f-4882-fe8c-7e31843e7065"
      },
      "source": [
        "# https://colab.research.google.com/drive/1qGvdG4N1OOubl3FQFncAB63E7ooTg4Ju?usp=sharing\n",
        "!git clone https://github.com/t0pcup/hse21_hw1.git"
      ],
      "execution_count": 1,
      "outputs": [
        {
          "output_type": "stream",
          "name": "stdout",
          "text": [
            "Cloning into 'hse21_hw1'...\n",
            "remote: Enumerating objects: 69, done.\u001b[K\n",
            "remote: Counting objects: 100% (69/69), done.\u001b[K\n",
            "remote: Compressing objects: 100% (48/48), done.\u001b[K\n",
            "remote: Total 69 (delta 37), reused 50 (delta 20), pack-reused 0\u001b[K\n",
            "Unpacking objects: 100% (69/69), done.\n"
          ]
        }
      ]
    },
    {
      "cell_type": "code",
      "metadata": {
        "id": "tLk2XoApiBZz"
      },
      "source": [
        "def info(file):\n",
        "  lens = !grep '^>' $file | sed -E 's/^.*len([0-9]+).*$/\\1/'\n",
        "  contigs = sorted((int(e) for e in lens), reverse = True)\n",
        "  score = 0\n",
        "\n",
        "  for e in contigs:\n",
        "    score += e\n",
        "    if score >= sum(contigs)/2:\n",
        "      N50 = e\n",
        "      break\n",
        "  \n",
        "  print(f\"Файл: {file}:\")\n",
        "  print(f\"общее количество контигов = {len(contigs)},\")\n",
        "  print(f\"их общая длина = {sum(contigs)},\")\n",
        "  print(f\"длина самого длинного контига = {contigs[0]},\")\n",
        "  print(f\"N50 = {N50}.\\n\")\n",
        "\n",
        "def gaps(file):\n",
        "  num = !grep -Ec 'N+' $file\n",
        "  total = !grep -Eo 'N+' $file | tr -cd 'N' | wc -c\n",
        "  print(f\"Файл: {file}:\")\n",
        "  print(f\"количество гэпов самого длинного скаффолда = {num[0]},\")\n",
        "  print(f\"их общая длина = {total[0]}.\\n\")"
      ],
      "execution_count": 2,
      "outputs": []
    },
    {
      "cell_type": "code",
      "metadata": {
        "colab": {
          "base_uri": "https://localhost:8080/"
        },
        "id": "aeLeFbkqozPT",
        "outputId": "50bd9d88-8c95-44a1-8db7-4e3ef7c2a2b3"
      },
      "source": [
        "info(\"hse21_hw1/data/contigs.fasta\")\n",
        "info(\"hse21_hw1/data/scaffold_with_gaps.fasta\")\n",
        "\n",
        "gaps(\"hse21_hw1/data/longest.fasta\")\n",
        "gaps(\"hse21_hw1/data/longest_with_gaps.fasta\")"
      ],
      "execution_count": 4,
      "outputs": [
        {
          "output_type": "stream",
          "name": "stdout",
          "text": [
            "Файл: hse21_hw1/data/contigs.fasta:\n",
            "общее количество контигов = 659,\n",
            "их общая длина = 3929513,\n",
            "длина самого длинного контига = 143021,\n",
            "N50 = 47611.\n",
            "\n",
            "Файл: hse21_hw1/data/scaffold_with_gaps.fasta:\n",
            "общее количество контигов = 69,\n",
            "их общая длина = 3873310,\n",
            "длина самого длинного контига = 3835727,\n",
            "N50 = 3835727.\n",
            "\n",
            "Файл: hse21_hw1/data/longest.fasta:\n",
            "количество гэпов самого длинного скаффолда = 34,\n",
            "их общая длина = 2175.\n",
            "\n",
            "Файл: hse21_hw1/data/longest_with_gaps.fasta:\n",
            "количество гэпов самого длинного скаффолда = 140,\n",
            "их общая длина = 6329.\n",
            "\n"
          ]
        }
      ]
    },
    {
      "cell_type": "code",
      "metadata": {
        "id": "FwF6eQKHnpdU"
      },
      "source": [
        ""
      ],
      "execution_count": null,
      "outputs": []
    }
  ]
}