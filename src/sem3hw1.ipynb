{
  "nbformat": 4,
  "nbformat_minor": 0,
  "metadata": {
    "colab": {
      "name": "sem3hw1.ipynb",
      "provenance": [],
      "collapsed_sections": []
    },
    "kernelspec": {
      "name": "python3",
      "display_name": "Python 3"
    },
    "language_info": {
      "name": "python"
    }
  },
  "cells": [
    {
      "cell_type": "code",
      "metadata": {
        "colab": {
          "base_uri": "https://localhost:8080/"
        },
        "id": "dYRLqGgyde5s",
        "outputId": "7bb89cb7-f2e7-4a43-b76e-526291253713"
      },
      "source": [
        "# https://colab.research.google.com/drive/1qGvdG4N1OOubl3FQFncAB63E7ooTg4Ju?usp=sharing\n",
        "!git clone https://github.com/t0pcup/hse21_hw1.git"
      ],
      "execution_count": 20,
      "outputs": [
        {
          "output_type": "stream",
          "name": "stdout",
          "text": [
            "fatal: destination path 'hse21_hw1' already exists and is not an empty directory.\n"
          ]
        }
      ]
    },
    {
      "cell_type": "code",
      "metadata": {
        "colab": {
          "base_uri": "https://localhost:8080/"
        },
        "id": "tLk2XoApiBZz",
        "outputId": "dd85991c-764c-49e8-b290-49d2321bd288"
      },
      "source": [
        "def info(file):\n",
        "  lens = !grep '^>' $file | sed -E 's/^.*len([0-9]+).*$/\\1/'\n",
        "  contigs = sorted((int(e) for e in lens), reverse = True)\n",
        "  score = 0\n",
        "\n",
        "  for e in contigs:\n",
        "    score += e\n",
        "    if score >= sum(contigs)/2:\n",
        "      N50 = e\n",
        "      break\n",
        "  \n",
        "  print(f\"Файл: {file}:\")\n",
        "  print(f\"общее количество контигов = {len(contigs)},\")\n",
        "  print(f\"их общая длина = {sum(contigs)},\")\n",
        "  print(f\"длина самого длинного контига = {contigs[0]},\")\n",
        "  print(f\"N50 = {N50}.\\n\")\n",
        "\n",
        "info(\"hse21_hw1/data/contigs.fasta\")\n",
        "info(\"hse21_hw1/data/scaffold_with_gaps.fasta\")"
      ],
      "execution_count": 34,
      "outputs": [
        {
          "output_type": "stream",
          "name": "stdout",
          "text": [
            "Файл: hse21_hw1/data/contigs.fasta\n",
            "общее количество контигов = 659\n",
            "их общая длина = 3929513\n",
            "длина самого длинного контига = 143021\n",
            "N50 = 47611.\n",
            "\n",
            "Файл: hse21_hw1/data/scaffold_with_gaps.fasta\n",
            "общее количество контигов = 69\n",
            "их общая длина = 3873310\n",
            "длина самого длинного контига = 3835727\n",
            "N50 = 3835727.\n",
            "\n"
          ]
        }
      ]
    },
    {
      "cell_type": "code",
      "metadata": {
        "colab": {
          "base_uri": "https://localhost:8080/"
        },
        "id": "aeLeFbkqozPT",
        "outputId": "487610f1-ec0a-4dfd-e3ac-ff8feaa8fe2d"
      },
      "source": [
        "def gaps(file):\n",
        "  num = !grep -Ec 'N+' $file\n",
        "  total = !grep -Eo 'N+' $file | tr -cd 'N' | wc -c\n",
        "  print(f\"Файл: {file}:\")\n",
        "  print(f\"количество гэпов самого длинного скаффолда = {num[0]},\")\n",
        "  print(f\"их общая длина = {total[0]}.\\n\")\n",
        "\n",
        "gaps(\"hse21_hw1/data/longest_with_gaps.fasta\")\n",
        "gaps(\"hse21_hw1/data/longest.fasta\")"
      ],
      "execution_count": 35,
      "outputs": [
        {
          "output_type": "stream",
          "name": "stdout",
          "text": [
            "Файл: hse21_hw1/data/longest_with_gaps.fasta:\n",
            "количество гэпов самого длинного скаффолда = 140,\n",
            "их общая длина = 6329.\n",
            "\n",
            "Файл: hse21_hw1/data/longest.fasta:\n",
            "количество гэпов самого длинного скаффолда = 34,\n",
            "их общая длина = 2175.\n",
            "\n"
          ]
        }
      ]
    },
    {
      "cell_type": "code",
      "metadata": {
        "id": "CVXpaP604p93"
      },
      "source": [
        ""
      ],
      "execution_count": null,
      "outputs": []
    }
  ]
}