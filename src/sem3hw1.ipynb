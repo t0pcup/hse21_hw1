{
  "nbformat": 4,
  "nbformat_minor": 0,
  "metadata": {
    "colab": {
      "name": "sem3hw1.ipynb",
      "provenance": [],
      "collapsed_sections": []
    },
    "kernelspec": {
      "name": "python3",
      "display_name": "Python 3"
    },
    "language_info": {
      "name": "python"
    }
  },
  "cells": [
    {
      "cell_type": "code",
      "metadata": {
        "colab": {
          "base_uri": "https://localhost:8080/"
        },
        "id": "dYRLqGgyde5s",
        "outputId": "6921453e-f87d-454f-9680-4c413c17e412"
      },
      "source": [
        "# https://colab.research.google.com/drive/1qGvdG4N1OOubl3FQFncAB63E7ooTg4Ju?usp=sharing\n",
        "!git clone https://github.com/t0pcup/hse21_hw1.git"
      ],
      "execution_count": 1,
      "outputs": [
        {
          "output_type": "stream",
          "name": "stdout",
          "text": [
            "Cloning into 'hse21_hw1'...\n",
            "remote: Enumerating objects: 90, done.\u001b[K\n",
            "remote: Counting objects: 100% (90/90), done.\u001b[K\n",
            "remote: Compressing objects: 100% (68/68), done.\u001b[K\n",
            "remote: Total 90 (delta 44), reused 60 (delta 21), pack-reused 0\u001b[K\n",
            "Unpacking objects: 100% (90/90), done.\n"
          ]
        }
      ]
    },
    {
      "cell_type": "code",
      "metadata": {
        "id": "tLk2XoApiBZz"
      },
      "source": [
        "def info(file):\n",
        "  score = 0\n",
        "  segs = !grep '^>' $file | sed -E 's/^.*len([0-9]+).*$/\\1/'\n",
        "  contigs = sorted((int(e) for e in segs))[::-1]\n",
        "\n",
        "  for e in contigs:\n",
        "    score += e\n",
        "    if score >= sum(contigs)/2:\n",
        "      N50 = e\n",
        "      break\n",
        "  \n",
        "  print(f\"Информация о файле: {file.split('/')[-1]}:\")\n",
        "  print(f\"общее количество контигов = {len(contigs)},\")\n",
        "  print(f\"их общая длина = {sum(contigs)},\")\n",
        "  print(f\"длина самого длинного контига = {contigs[0]},\")\n",
        "  print(f\"N50 = {N50}.\\n\")\n",
        "\n",
        "\n",
        "def gaps(file):\n",
        "  num = !grep -Ec 'N+' $file\n",
        "  total = !grep -Eo 'N+' $file | tr -cd 'N' | wc -c\n",
        "  print(f\"Гэпы в файле: {file.split('/')[-1]}:\")\n",
        "  print(f\"количество гэпов самого длинного скаффолда = {num[0]},\")\n",
        "  print(f\"их общая длина = {total[0]}.\\n\")"
      ],
      "execution_count": 10,
      "outputs": []
    },
    {
      "cell_type": "code",
      "metadata": {
        "colab": {
          "base_uri": "https://localhost:8080/"
        },
        "id": "aeLeFbkqozPT",
        "outputId": "b17adbc0-329d-45c7-fac2-170ad28d0b6f"
      },
      "source": [
        "info(\"hse21_hw1/data/contigs.fasta\")\n",
        "info(\"hse21_hw1/data/scaffold_with_gaps.fasta\")\n",
        "\n",
        "gaps(\"hse21_hw1/data/longest.fasta\")\n",
        "gaps(\"hse21_hw1/data/longest_with_gaps.fasta\")"
      ],
      "execution_count": 11,
      "outputs": [
        {
          "output_type": "stream",
          "name": "stdout",
          "text": [
            "Информация о файле: contigs.fasta:\n",
            "общее количество контигов = 659,\n",
            "их общая длина = 3929513,\n",
            "длина самого длинного контига = 143021,\n",
            "N50 = 47611.\n",
            "\n",
            "Информация о файле: scaffold_with_gaps.fasta:\n",
            "общее количество контигов = 69,\n",
            "их общая длина = 3873310,\n",
            "длина самого длинного контига = 3835727,\n",
            "N50 = 3835727.\n",
            "\n",
            "Гэпы в файле: longest.fasta:\n",
            "количество гэпов самого длинного скаффолда = 34,\n",
            "их общая длина = 2175.\n",
            "\n",
            "Гэпы в файле: longest_with_gaps.fasta:\n",
            "количество гэпов самого длинного скаффолда = 140,\n",
            "их общая длина = 6329.\n",
            "\n"
          ]
        }
      ]
    },
    {
      "cell_type": "code",
      "metadata": {
        "id": "FwF6eQKHnpdU"
      },
      "source": [
        ""
      ],
      "execution_count": null,
      "outputs": []
    }
  ]
}